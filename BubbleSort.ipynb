{
 "cells": [
  {
   "cell_type": "code",
   "execution_count": 1,
   "metadata": {},
   "outputs": [],
   "source": [
    "def countBubbleSort(arr):\n",
    "    n = len(arr)\n",
    "    counter = 0\n",
    "    for i in range(n - 1):\n",
    "        for j in range(0, n - i - 1):\n",
    "            if arr[j] > arr[j + 1]:\n",
    "                counter += 1\n",
    "                arr[j], arr[j + 1] = arr[j + 1], arr[j]\n",
    "\n",
    "    return counter\n",
    "\n",
    "\n",
    "def test():\n",
    "    arr_1 = [1, 2, 5, 6, 4, 8]\n",
    "    arr_2 = [i for i in range(10)]\n",
    "    arr_2_reversed = arr_2[::-1]\n",
    "    arr_3 = [5, 7, 8, 9, 4, 5, 6, 7]\n",
    "\n",
    "    changes = countBubbleSort(arr_1)\n",
    "    print(\"Sorted array is:\", arr_1)\n",
    "    print('Changes: ', changes)\n",
    "\n",
    "    changes = countBubbleSort(arr_2)\n",
    "    print(\"Sorted array is:\", arr_2)\n",
    "    print('Changes: ', changes)\n",
    "\n",
    "    changes = countBubbleSort(arr_2_reversed)\n",
    "    print(\"Sorted array is:\", arr_2_reversed)\n",
    "    print('Changes: ', changes)\n",
    "\n",
    "    changes = countBubbleSort(arr_3)\n",
    "    print(\"Sorted array is:\", arr_3)\n",
    "    print('Changes: ', changes)\n",
    "\n",
    "\n",
    "def task4():\n",
    "    try:\n",
    "        arr = [int(i) for i in input('Enter array separated by space :').strip().split(' ')]\n",
    "    except ValueError:\n",
    "        print('Array is incorrect')\n",
    "    else:\n",
    "        changes = countBubbleSort(arr)\n",
    "        print(\"Sorted array is:\", arr)\n",
    "        print('Changes: ', changes)\n",
    "\n",
    "\n"
   ]
  },
  {
   "cell_type": "code",
   "execution_count": 2,
   "metadata": {},
   "outputs": [
    {
     "name": "stdout",
     "output_type": "stream",
     "text": [
      "Enter array separated by space :4 9 2 1 0 7\n",
      "Sorted array is: [0, 1, 2, 4, 7, 9]\n",
      "Changes:  10\n"
     ]
    }
   ],
   "source": [
    "task4()"
   ]
  },
  {
   "cell_type": "code",
   "execution_count": 3,
   "metadata": {},
   "outputs": [
    {
     "name": "stdout",
     "output_type": "stream",
     "text": [
      "Enter array separated by space :4 3 1 9 f 8 a\n",
      "Array is incorrect\n"
     ]
    }
   ],
   "source": [
    "task4()"
   ]
  },
  {
   "cell_type": "code",
   "execution_count": 4,
   "metadata": {},
   "outputs": [
    {
     "name": "stdout",
     "output_type": "stream",
     "text": [
      "Sorted array is: [1, 2, 4, 5, 6, 8]\n",
      "Changes:  2\n",
      "Sorted array is: [0, 1, 2, 3, 4, 5, 6, 7, 8, 9]\n",
      "Changes:  0\n",
      "Sorted array is: [0, 1, 2, 3, 4, 5, 6, 7, 8, 9]\n",
      "Changes:  45\n",
      "Sorted array is: [4, 5, 5, 6, 7, 7, 8, 9]\n",
      "Changes:  12\n"
     ]
    }
   ],
   "source": [
    "test()"
   ]
  },
  {
   "cell_type": "code",
   "execution_count": null,
   "metadata": {},
   "outputs": [],
   "source": []
  }
 ],
 "metadata": {
  "kernelspec": {
   "display_name": "Python 3",
   "language": "python",
   "name": "python3"
  },
  "language_info": {
   "codemirror_mode": {
    "name": "ipython",
    "version": 3
   },
   "file_extension": ".py",
   "mimetype": "text/x-python",
   "name": "python",
   "nbconvert_exporter": "python",
   "pygments_lexer": "ipython3",
   "version": "3.8.5"
  }
 },
 "nbformat": 4,
 "nbformat_minor": 4
}
